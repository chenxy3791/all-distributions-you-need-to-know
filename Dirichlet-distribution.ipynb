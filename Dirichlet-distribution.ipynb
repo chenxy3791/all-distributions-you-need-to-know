{
 "cells": [
  {
   "cell_type": "markdown",
   "id": "213bf835",
   "metadata": {},
   "source": [
    "# Dirichlet distribution\n",
    "\n",
    "ref1: https://builtin.com/data-science/dirichlet-distribution\n",
    "\n",
    "ref2: https://docs.scipy.org/doc/scipy/reference/generated/scipy.stats.dirichlet.html"
   ]
  },
  {
   "cell_type": "markdown",
   "id": "0bffa63f",
   "metadata": {},
   "source": [
    "## WHAT IS THE DIRICHLET DISTRIBUTION?\n",
    "The Dirichlet distribution Dir($\\alpha$) is a family of continuous multivariate probability distributions parameterized by a vector $\\alpha$ of positive reals. It is a multivariate generalization of the Beta distribution. Dirichlet distributions are commonly used as prior distributions in Bayesian statistics.\n",
    "\n",
    "狄利克雷分布是Beta分布的多变量推广，通常用作贝叶斯统计中的先验分布。\n"
   ]
  },
  {
   "cell_type": "markdown",
   "id": "908822b6",
   "metadata": {},
   "source": [
    "## Dirichlet Distribution\n",
    "\n",
    "The Dirichlet distribution defines a probability density for a vector valued input having the same characteristics as our multinomial parameter θ. It has support (the set of points where it has non-zero values) over $x_1,x_2,...,x_k$ where $x_i \\in (0,1)$ and $\\sum\\limits_{i=1}\\limits^{K}x_i = 1$. K is the number of variables. Its probability density function has the following form:\n",
    "$$Dir(\\theta|\\mathbb{\\alpha}) = \\frac{1}{Beta(\\mathbb{\\alpha})} \\prod\\limits_{i=1}\\limits^{K}\\theta_i^{\\alpha_i-1}$$\n",
    "where, $Beta(\\mathbb{\\alpha}) = \\frac{\\prod_{i=1}^{K}\\Gamma(\\alpha_i)}{\\Gamma(\\sum_{i=1}^{K}\\alpha_i)}$\n",
    "\n",
    "The Dirichlet distribution is parameterized by the vector $\\mathbb{\\alpha}$, the concentration parameters , which has the same number of elements K as our multinomial parameter $\\theta$. So you can interpret $p(\\theta|\\alpha)$ as the answer to the question “what is the probability density associated with multinomial distribution θ, given that our Dirichlet distribution has parameter α?”"
   ]
  },
  {
   "cell_type": "code",
   "execution_count": 1,
   "id": "e3b03ce2",
   "metadata": {},
   "outputs": [],
   "source": [
    "import numpy as np\n",
    "from scipy.stats import dirichlet"
   ]
  },
  {
   "cell_type": "code",
   "execution_count": 4,
   "id": "65f4d25c",
   "metadata": {},
   "outputs": [
    {
     "name": "stdout",
     "output_type": "stream",
     "text": [
      "0.2843831684937255\n",
      "-1.2574327653159187\n",
      "[0.01960784 0.24509804 0.73529412]\n",
      "[0.00089829 0.00864603 0.00909517]\n",
      "-4.3280162474082715\n"
     ]
    }
   ],
   "source": [
    "# Note that the dirichlet interface is somewhat inconsistent. \n",
    "# The array returned by the rvs function is transposed with respect to the format expected by the pdf and logpdf.\n",
    "\n",
    "# Generate a dirichlet random variable\n",
    "quantiles = np.array([0.2, 0.2, 0.6])  # specify quantiles\n",
    "alpha = np.array([0.4, 5, 15])  # specify concentration parameters\n",
    "print(dirichlet.pdf(quantiles, alpha))\n",
    "\n",
    "# The same PDF but following a log scale\n",
    "print(dirichlet.logpdf(quantiles, alpha))\n",
    "\n",
    "# Once we specify the dirichlet distribution we can then calculate quantities of interest\n",
    "print(dirichlet.mean(alpha))  # get the mean of the distribution\n",
    "print(dirichlet.var(alpha)) # get variance\n",
    "print(dirichlet.entropy(alpha))  # calculate the differential entropy"
   ]
  },
  {
   "cell_type": "code",
   "execution_count": 8,
   "id": "c54e6b89",
   "metadata": {},
   "outputs": [
    {
     "name": "stdout",
     "output_type": "stream",
     "text": [
      "[[0.00766178 0.24670518 0.74563305]]\n",
      "[[0.01639427 0.1292273  0.85437844]\n",
      " [0.00156917 0.19033695 0.80809388]]\n",
      "[[1.04944993e-01 1.74598855e-01 7.20456152e-01]\n",
      " [3.47622064e-02 1.98227296e-01 7.67010498e-01]\n",
      " [9.93251252e-05 3.34364633e-01 6.65536042e-01]]\n",
      "[0.01960784 0.24509804 0.73529412]\n"
     ]
    }
   ],
   "source": [
    "# Sampling from the distribution\n",
    "print(dirichlet.rvs(alpha, size=1, random_state=1))\n",
    "print(dirichlet.rvs(alpha, size=2, random_state=2))\n",
    "\n",
    "# Alternatively, the object may be called (as a function) to fix concentration parameters, \n",
    "# returning a “frozen” Dirichlet random variable:\n",
    "rv = dirichlet(alpha)\n",
    "# Frozen object with the same methods but holding the given\n",
    "# concentration parameters fixed.\n",
    "print(rv.rvs(size=3))\n",
    "print(rv.mean())"
   ]
  },
  {
   "cell_type": "markdown",
   "id": "cb2bf776",
   "metadata": {},
   "source": [
    "## Why use Dirichlet distribution as a prior distribution?\n",
    "An immediate question is why do we use the Dirichlet distribution as a prior distribution in Bayesian statistics? One reason is that it’s the conjugate prior to two important probability distributions: the categorical distribution and the multinomial distribution. In short, using the Dirichlet distribution as a prior makes the math a lot easier.\n",
    "\n",
    "原因在于狄利克雷分布是两种重要的分布（分类分布和多项式分布）的共轭先验（conjugate prior），使用狄利克雷分布作为先验分布会使得数学处理变得更简单一些。"
   ]
  },
  {
   "cell_type": "markdown",
   "id": "9afd9222",
   "metadata": {},
   "source": [
    "## Conjugate Prior\n",
    "In Bayesian probability theory, if the posterior distribution p(θ|x) and the prior distribution p(θ) are from the same probability distribution family, then the prior and posterior are called conjugate distributions, and the prior is the conjugate prior for the likelihood function.\n",
    "\n",
    "If we think about the problem of inferring the parameter θ for a distribution from a given set of data x, then Bayes’ theorem says the posterior distribution is equal to the product of the likelihood function θ → p(x|θ) and the prior p(θ), normalized by the probability of the data p(x): $$p(\\theta|\\mathcal{x}) = \\frac{p(\\mathcal{x}|\\theta) p(\\theta)}{\\int p(\\mathcal{x}|\\theta') p(\\theta') d\\theta'}$$\n",
    "\n",
    "Since the likelihood function is usually defined from the data generating process, the difference choices of prior can make the integral more or less difficult to calculate. If the prior has the same algebraic form as the likelihood, then often we can obtain a closed-form expression for the posterior, avoiding the need of numerical integration.\n",
    "\n",
    "简而言之，如果似然函数与先验概率具有相同的代数形式，通常就可以得到后验概率的闭式表达式，避免数值积分的必要性。"
   ]
  },
  {
   "cell_type": "markdown",
   "id": "0a683cd6",
   "metadata": {},
   "source": [
    "## Motivating the Dirichlet Distribution\n",
    "Here’s how the Dirichlet distribution can be used to characterize the random variability of a multinomial distribution. I’ve borrowed this example from a great blog post on visualizing the Dirichlet distribution.\n",
    "\n",
    "Suppose we’re going to manufacture six-sided dice but allow the outcomes of a toss to be only one, two or three (so the later visualization is easier). If the die is fair then the probabilities of the three outcomes will be the same and equal to 1/3. We can represent the probabilities for the outcomes as a vector θ =(θ₁, θ₂, θ₃).\n",
    "\n",
    "θ has two important properties: First, the sum of the probabilities for each entry must equal one, and none of the probabilities can be negative. When these conditions hold, we can use a multinomial distribution to describe the results associated with rolling the die.\n",
    "\n",
    "In other words, if we observe n dice rolls, D={x₁,…,x_k}, then the likelihood function has the form:\n",
    "$$p(\\mathcal{D}|\\theta) = \\prod\\limits_{k=1}\\limits^{3}\\theta_k^{N_k},\\ N_k=\\sum\\limits_{i=1}\\limits^{N}I(y_i=k)$$\n",
    "\n",
    "Where $N_k$ is the number of times the value $k\\in{1, 2, 3}$ has occurred.\n",
    "\n",
    "We expect there will be some variability in the characteristics of the dice we produce, so even if we try to produce fair dice, we won’t expect the probabilities of each outcome for a particular die will be exactly 1/3, due to variability in the production process. To characterize this variability mathematically, we would like to know the probability density of every possible value of θ for a given manufacturing process. To do this, let’s consider each element of θ as being an independent variable.\n",
    "\n",
    "That is, for θ =(θ₁, θ₂, θ₃), we can treat θ₁, θ₂ and θ₃ each as an independent variable. Since the multinomial distribution requires that these three variables sum to one, we know that the allowable values of θ are confined to a plane. Furthermore, since each value θᵢ must be greater than or equal to zero, the set of all allowable values of θ is confined to a triangle.\n",
    "\n",
    "What we want to know is the probability density at each point on this triangle. This is where the Dirichlet distribution can help us: We can use it as the prior for the multinomial distribution."
   ]
  },
  {
   "cell_type": "markdown",
   "id": "28e5037d",
   "metadata": {},
   "source": [
    "## Visualizing the Dirichlet Distribution\n",
    "We see the Dirichlet distribution indeed has the same form as the multinomial likelihood distribution. But what does it actually look like?\n",
    "\n",
    "To see this, we need to note that the Dirichlet distribution is the multivariate generalization of the beta distribution. The beta distribution is defined on the interval [0, 1] parameterized by two positive shape parameters α and β. As you might expect, it is the conjugate prior of the binomial (including Bernoulli) distribution. The figure shows the probability density function for the Beta distribution with a few α and β values."
   ]
  },
  {
   "cell_type": "markdown",
   "id": "06cc5dad",
   "metadata": {},
   "source": [
    "As we can see, the beta density function can take a wide variety of different shapes depending on α and β. When both α and β are less than one, the distribution is U-shaped. In the limit of α = β → 0, it is a  two point Bernoulli distribution with equal probability 1/2 at each Dirac delta function ends x=0 and x=1, and zero probability everywhere else. When α=β=1 we have the uniform [0, 1] distribution, which is the distribution with the largest entropy. When both α and β are greater than one the distribution is unimodal. This diversity of shapes by varying only two parameters makes it particularly useful for modeling actual measurements.\n",
    "\n",
    "For the Dirichlet distribution Dir(α) we generalize these shapes to a K simplex. For K=3, visualizing the distribution requires us to do the following: \n",
    "\n",
    "1. Generate a set of x-y coordinates over our triangle \n",
    "\n",
    "2. Map the x-y coordinates to the two-simplex coordinate space\n",
    "\n",
    "3. Compute Dir(α) for each point \n",
    "\n",
    "Below are some examples."
   ]
  },
  {
   "cell_type": "code",
   "execution_count": null,
   "id": "a22e862b",
   "metadata": {},
   "outputs": [],
   "source": []
  },
  {
   "cell_type": "markdown",
   "id": "c4b6446c",
   "metadata": {},
   "source": [
    "We see it’s now the parameter α that governs the shapes of the distribution. In particular, the sum α₀=∑αᵢ controls the strength of the distribution (how peaked it is). If αᵢ < 1 for all i, we get spikes at the corners of the simplex. For values of αᵢ > 1, the distribution tends toward the centre of the simplex. As α₀ increases, the distribution becomes more tightly concentrated around the centre of the simplex.\n",
    "\n",
    "In the context of our original dice experiment, we would produce consistently fair dice as αᵢ → ∞. For a symmetric Dirichlet distribution with αᵢ > 1, we will produce fair dice, on average. If the goal is to produce loaded dice (e.g., with a higher probability of rolling a three), we would want an asymmetric Dirichlet distribution with a higher value for α₃."
   ]
  },
  {
   "cell_type": "code",
   "execution_count": 12,
   "id": "215011df",
   "metadata": {},
   "outputs": [
    {
     "data": {
      "image/png": "[encoded data removed]",
      "text/plain": [
       "<Figure size 432x288 with 1 Axes>"
      ]
     },
     "metadata": {
      "needs_background": "light"
     },
     "output_type": "display_data"
    }
   ],
   "source": [
    "\"\"\"\n",
    "    3-Class Example\n",
    "\"\"\"\n",
    "from random import randint\n",
    "import numpy as np\n",
    "from matplotlib import pyplot as plt\n",
    "\n",
    "def normalization(x, s):\n",
    "    \"\"\"\n",
    "    :return: normalizated list, where sum(x) == s\n",
    "    \"\"\"\n",
    "    return [(i * s) / sum(x) for i in x]\n",
    "\n",
    "def sampling():\n",
    "    return normalization([randint(1, 100),\n",
    "            randint(1, 100), randint(1, 100)], s=1)\n",
    "\n",
    "def gamma_function(n):\n",
    "    cal = 1\n",
    "    for i in range(2, n):\n",
    "        cal *= i\n",
    "    return cal\n",
    "\n",
    "def beta_function(alpha):\n",
    "    \"\"\"\n",
    "    :param alpha: list, len(alpha) is k\n",
    "    :return:\n",
    "    \"\"\"\n",
    "    numerator = 1\n",
    "    for a in alpha:\n",
    "        numerator *= gamma_function(a)\n",
    "    denominator = gamma_function(sum(alpha))\n",
    "    return numerator / denominator\n",
    "\n",
    "def dirichlet(x, a, n):\n",
    "    \"\"\"\n",
    "    :param x: list of [x[1,...,K], x[1,...,K], ...], shape is (n_trial, K)\n",
    "    :param a: list of coefficient, a_i > 0\n",
    "    :param n: number of trial\n",
    "    :return:\n",
    "    \"\"\"\n",
    "    c = (1 / beta_function(a))\n",
    "    y = [c * (xn[0] ** (a[0] - 1)) * (xn[1] ** (a[1] - 1))\n",
    "         * (xn[2] ** (a[2] - 1)) for xn in x]\n",
    "    x = np.arange(n)\n",
    "    return x, y, np.mean(y), np.std(y)\n",
    "\n",
    "n_experiment = 1200\n",
    "for ls in [(6, 2, 2), (3, 7, 5), (6, 2, 6), (2, 3, 4)]:\n",
    "    alpha = list(ls)\n",
    "\n",
    "    # random samping [x[1,...,K], x[1,...,K], ...], shape is (n_trial, K)\n",
    "    # each sum of row should be one.\n",
    "    x = [sampling() for _ in range(1, n_experiment + 1)]\n",
    "\n",
    "    x, y, u, s = dirichlet(x, alpha, n=n_experiment)\n",
    "    plt.plot(x, y, label=r'$\\alpha=(%d,%d,%d)$' % (ls[0], ls[1], ls[2]))\n",
    "\n",
    "plt.legend()\n",
    "plt.savefig('graph/dirichlet.png')\n",
    "plt.show()"
   ]
  },
  {
   "cell_type": "code",
   "execution_count": null,
   "id": "504ee3d4",
   "metadata": {},
   "outputs": [],
   "source": []
  }
 ],
 "metadata": {
  "kernelspec": {
   "display_name": "Python 3 (ipykernel)",
   "language": "python",
   "name": "python3"
  },
  "language_info": {
   "codemirror_mode": {
    "name": "ipython",
    "version": 3
   },
   "file_extension": ".py",
   "mimetype": "text/x-python",
   "name": "python",
   "nbconvert_exporter": "python",
   "pygments_lexer": "ipython3",
   "version": "3.9.7"
  }
 },
 "nbformat": 4,
 "nbformat_minor": 5
}
