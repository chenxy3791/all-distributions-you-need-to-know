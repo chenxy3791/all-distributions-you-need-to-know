{
 "cells": [
  {
   "cell_type": "markdown",
   "id": "2e54a5fc",
   "metadata": {},
   "source": [
    "# Categorical distribution\n",
    "\n",
    "ref1: https://en.wikipedia.org/wiki/Categorical_distribution"
   ]
  },
  {
   "cell_type": "markdown",
   "id": "c20b861c",
   "metadata": {},
   "source": [
    "## 定义\n",
    "In probability theory and statistics, a categorical distribution (also called a generalized Bernoulli distribution, multinoulli distribution[1]) is a discrete probability distribution that describes the possible results of a random variable that can take on one of K possible categories, with the probability of each category separately specified. There is no innate underlying ordering of these outcomes, but numerical labels are often attached for convenience in describing the distribution, (e.g. 1 to K). The K-dimensional categorical distribution is the most general distribution over a K-way event; any other discrete distribution over a size-K sample space is a special case. The parameters specifying the probabilities of each possible outcome are constrained only by the fact that each must be in the range 0 to 1, and all must sum to 1.\n",
    "\n",
    "The categorical distribution is the generalization of the Bernoulli distribution for a categorical random variable, i.e. for a discrete variable with more than two possible outcomes, such as the roll of a die. On the other hand, the categorical distribution is a special case of the multinomial distribution, in that it gives the probabilities of potential outcomes of a single drawing rather than multiple drawings.\n",
    "\n",
    "分类分布是伯努利分布的推广。伯努利分布是关于只有两种可能结果的，而分类分布则关于有任意k种可能结果的情况。反过来来说，k=2时的分类分布即退化成伯努利分布。比如说，抛硬币的结果可以用伯努利分布来描述，而扔骰子的结果则可以用分类分布来处理。\n",
    "\n",
    "另一方面，分类分布又可以看成是多项分布(multinomial distribution)的一种特例。多项分布描述有多种可能结果的实验中执行多次的实验结果结果，而分类分布则是只执行一次时的情况。\n",
    "\n",
    "假定k种事件分别记为event1,2,...,k。其概率分别为p1,p2,...,pk. 则分类分布的PMF定义如下：\n",
    "\n",
    "$$ p(x=i) = p_i $$\n",
    "$$ p(x)   = \\sum\\limits_{i=1}\\limits^{k} I(x=i) p_i = \\sum\\limits_{i=1}\\limits^{k} [x=i] p_i $$\n",
    "\n",
    "Here, I() represents indicator function; \"[]\" represents Iverson bracket. "
   ]
  },
  {
   "cell_type": "markdown",
   "id": "601e0a3e",
   "metadata": {},
   "source": []
  },
  {
   "cell_type": "code",
   "execution_count": null,
   "id": "7b34f471",
   "metadata": {},
   "outputs": [],
   "source": []
  }
 ],
 "metadata": {
  "kernelspec": {
   "display_name": "Python 3 (ipykernel)",
   "language": "python",
   "name": "python3"
  },
  "language_info": {
   "codemirror_mode": {
    "name": "ipython",
    "version": 3
   },
   "file_extension": ".py",
   "mimetype": "text/x-python",
   "name": "python",
   "nbconvert_exporter": "python",
   "pygments_lexer": "ipython3",
   "version": "3.8.5"
  }
 },
 "nbformat": 4,
 "nbformat_minor": 5
}
