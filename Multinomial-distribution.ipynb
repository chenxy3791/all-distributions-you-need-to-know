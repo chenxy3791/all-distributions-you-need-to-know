{
 "cells": [
  {
   "cell_type": "markdown",
   "id": "ee6a775f",
   "metadata": {},
   "source": [
    "# Multinomial distribution\n",
    "\n",
    "Ref1: https://docs.scipy.org/doc/scipy/reference/generated/scipy.stats.multinomial.html\n",
    "\n",
    "Ref2: numpy.random.Generator.multinomial\n"
   ]
  },
  {
   "cell_type": "markdown",
   "id": "3240a611",
   "metadata": {},
   "source": [
    "## Definition\n",
    "The probability mass function for multinomial is\n",
    "$$f(x) = \\frac{n!}{x_1! x_2! ...x_k! } p_1^{x_1}p_2^{x_2}...p_k^{x_k} = \\frac{n!}{\\prod_{i=1}^{k} x_i ! } \\prod_{i=1}^{k} p_i^{x_i} $$\n",
    "supported on $x = (x_1,x_2,...x_k)$\n",
    "where each $x_i$ is a nonnegative integer and their sum is n, i.e, $\\sum_{i=1}^{k} x_i = n$.\n",
    " \n",
    "n should be a positive integer. Each element of p should be in the interval $[0,1]$, and $\\sum_{i=1}^{k} p_i = 1$. "
   ]
  },
  {
   "cell_type": "code",
   "execution_count": 7,
   "id": "a1690ede",
   "metadata": {},
   "outputs": [],
   "source": [
    "from scipy.stats import multinomial, binom\n",
    "import numpy as np\n",
    "from matplotlib import pyplot as plt"
   ]
  },
  {
   "cell_type": "code",
   "execution_count": 8,
   "id": "2c0dcefb",
   "metadata": {},
   "outputs": [
    {
     "data": {
      "text/plain": [
       "0.04200000000000007"
      ]
     },
     "execution_count": 8,
     "metadata": {},
     "output_type": "execute_result"
    }
   ],
   "source": [
    "rv = multinomial(8, [0.3, 0.2, 0.5])\n",
    "rv.pmf([1, 3, 4])"
   ]
  },
  {
   "cell_type": "markdown",
   "id": "d86f2043",
   "metadata": {},
   "source": [
    "## DIY implementation"
   ]
  },
  {
   "cell_type": "code",
   "execution_count": 10,
   "id": "e475bea2",
   "metadata": {},
   "outputs": [],
   "source": [
    "import operator as op\n",
    "from functools import reduce\n",
    "\n",
    "def factorial(n):\n",
    "    return reduce(op.mul, range(1, n + 1), 1)\n",
    "\n",
    "def multinomial_pmf(x,p):\n",
    "    '''\n",
    "    x: array_like\n",
    "    p: array_like, the same length as x, with the sum of all elements being 1\n",
    "    '''\n",
    "    assert(len(x)==len(p)), \"x and p should the same length\"\n",
    "    assert(sum(p)==1), \"The sum of all elements of p should be 1\"\n",
    "    n = sum(x)\n",
    "    \n",
    "    ret = 1\n",
    "    for k,xk in enumerate(x):\n",
    "        ret *= p[k]**xk / factorial(xk)\n",
    "    return factorial(sum(x)) * ret\n",
    "    "
   ]
  },
  {
   "cell_type": "code",
   "execution_count": 12,
   "id": "39c6c44a",
   "metadata": {},
   "outputs": [
    {
     "name": "stdout",
     "output_type": "stream",
     "text": [
      "0.01201629638671875\n",
      "0.04200000000000001\n"
     ]
    }
   ],
   "source": [
    "x = [1,2,3,4]; p = [1/len(x)] * len(x)\n",
    "print(multinomial_pmf(x,p))\n",
    "\n",
    "x = [1,3,4]; p = [0.3,0.2,0.5]\n",
    "print(multinomial_pmf(x,p))\n"
   ]
  },
  {
   "cell_type": "markdown",
   "id": "8d56573e",
   "metadata": {},
   "source": [
    "## The relation between multinomial and binomial\n",
    "\n",
    "Just as the name suggests, binominal can be seen as a specical case of multinomial when k = 2."
   ]
  },
  {
   "cell_type": "code",
   "execution_count": 2,
   "id": "b29bebe7",
   "metadata": {},
   "outputs": [
    {
     "name": "stdout",
     "output_type": "stream",
     "text": [
      "0.29030399999999973\n",
      "0.290304\n"
     ]
    }
   ],
   "source": [
    "print(multinomial.pmf([3, 4], n=7, p=[0.4, 0.6]))\n",
    "print(binom.pmf(3, 7, 0.4))"
   ]
  },
  {
   "cell_type": "code",
   "execution_count": null,
   "id": "e649bc4d",
   "metadata": {},
   "outputs": [],
   "source": []
  }
 ],
 "metadata": {
  "kernelspec": {
   "display_name": "Python 3 (ipykernel)",
   "language": "python",
   "name": "python3"
  },
  "language_info": {
   "codemirror_mode": {
    "name": "ipython",
    "version": 3
   },
   "file_extension": ".py",
   "mimetype": "text/x-python",
   "name": "python",
   "nbconvert_exporter": "python",
   "pygments_lexer": "ipython3",
   "version": "3.8.5"
  }
 },
 "nbformat": 4,
 "nbformat_minor": 5
}
