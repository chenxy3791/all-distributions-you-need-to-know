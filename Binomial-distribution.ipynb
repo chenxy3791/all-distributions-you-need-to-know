{
 "cells": [
  {
   "cell_type": "markdown",
   "id": "6058b4a0",
   "metadata": {},
   "source": [
    "# Binomial Distribution,二项分布"
   ]
  },
  {
   "cell_type": "markdown",
   "id": "2035538d",
   "metadata": {},
   "source": [
    "\n",
    "将伯努利试验独立地重复n次，并统计其中得到结果0（或结果1）的次数，该试验称为n重伯努利试验。\n",
    "\n",
    "n重伯努利试验的结果是一个遵循二项分布的随机变量，记为$X \\sim Binom(n,p)$。二项分布有两个参数，其中p和伯努利分布一样表示X取值为1的概率，而n则表示伯努利试验的重数。很显然$X \\sim Bern(p)$是$X \\sim Binom(n,p)$在n=1时的特例。二项分布的概率质量函数PMF如下所示：\n",
    "$$P(x;p,n)=\\binom{n}{k}p^x(1-p)^{(n-x)}, x=0,1,2,...,n$$\n",
    "其中，$\\binom{n}{k}=\\frac{n!}{(k!)(n-k)!}$\n"
   ]
  },
  {
   "cell_type": "code",
   "execution_count": 2,
   "id": "a78a5754",
   "metadata": {},
   "outputs": [],
   "source": [
    "import random\n",
    "import numpy as np\n",
    "from scipy.stats import bernoulli, binom\n",
    "%matplotlib inline\n",
    "from matplotlib import pyplot as plt"
   ]
  },
  {
   "cell_type": "markdown",
   "id": "4b85414f",
   "metadata": {},
   "source": [
    "二项分布的几个常用的统计特征分别如下所示（注意，离散随机变量的统计特征计算不使用积分，而是用求和）：\n",
    "$$𝐸(𝑋)=∑_{𝑥=0}^{n}x𝑝^x(1-p)^{(1−x)}=n𝑝$$\n",
    " \n",
    "$$𝐷(𝑋)=∑𝑥∈(0,1)(𝑥−𝐸(𝑋))2𝑝𝑥⋅(1−𝑝)(1−𝑥)=𝑝(1−𝑝)$$\n",
    " \n",
    "$$𝑆𝑘𝑒𝑤(𝑋)=∑𝑥∈(0,1)(𝑥−𝐸(𝑋)𝜎)3𝑝𝑥⋅(1−𝑝)(1−𝑥)=1−2𝑝𝑝(1−𝑝)⎯⎯⎯⎯⎯⎯⎯⎯⎯⎯⎯⎯⎯√$$\n",
    " \n",
    "$$𝐾𝑢𝑟𝑡𝑜𝑠𝑖𝑠(𝑋)=∑𝑥∈(0,1)(𝑥−𝐸(𝑋)𝜎)4𝑝𝑥⋅(1−𝑝)(1−𝑥)=3𝑝2−3𝑝+1𝑝(1−𝑝)$$"
   ]
  },
  {
   "cell_type": "markdown",
   "id": "13643f6d",
   "metadata": {},
   "source": [
    "### Common used statistics characteristics"
   ]
  },
  {
   "cell_type": "code",
   "execution_count": 4,
   "id": "7dfed6c0",
   "metadata": {},
   "outputs": [
    {
     "name": "stdout",
     "output_type": "stream",
     "text": [
      "Statistics characteristics of Bernoulli distribution, for p =0.4\n",
      "mean = 0.4, var = 0.24, skew = 0.40824829046386296, kurt = -1.8333333333333337\n",
      "statistics characteristics of Binomial distribution, for p=0.4, n=5\n",
      "mean = 2.0, var = 1.2, skew = 0.18257418583505533, kurt = -0.3666666666666668\n"
     ]
    }
   ],
   "source": [
    "p=0.4\n",
    "mean, var, skew, kurt = bernoulli.stats(p, moments='mvsk')\n",
    "print('Statistics characteristics of Bernoulli distribution, for p ={}'.format(p))\n",
    "print('mean = {0}, var = {1}, skew = {2}, kurt = {3}'.format(mean, var, skew, kurt))\n",
    "\n",
    "n, p = 5, 0.4\n",
    "mean, var, skew, kurt = binom.stats(n, p, moments='mvsk')\n",
    "print('statistics characteristics of Binomial distribution, for p={}, n={}'.format(p,n))\n",
    "print('mean = {0}, var = {1}, skew = {2}, kurt = {3}'.format(mean, var, skew, kurt))"
   ]
  },
  {
   "cell_type": "code",
   "execution_count": 5,
   "id": "8b10316e",
   "metadata": {},
   "outputs": [
    {
     "data": {
      "text/plain": [
       "<matplotlib.collections.LineCollection at 0x2722d0b2f40>"
      ]
     },
     "execution_count": 5,
     "metadata": {},
     "output_type": "execute_result"
    },
    {
     "data": {
      "image/png": "[encoded data removed]",
      "text/plain": [
       "<Figure size 432x288 with 1 Axes>"
      ]
     },
     "metadata": {
      "needs_background": "light"
     },
     "output_type": "display_data"
    }
   ],
   "source": [
    "import matplotlib.pyplot as plt\n",
    "fig, ax = plt.subplots(1, 1)\n",
    "x = np.arange(binom.ppf(0.01, n, p),\n",
    "              binom.ppf(0.99, n, p))\n",
    "ax.plot(x, binom.pmf(x, n, p), 'bo', ms=8, label='binom pmf')\n",
    "ax.vlines(x, 0, binom.pmf(x, n, p), colors='b', lw=5, alpha=0.5)"
   ]
  },
  {
   "cell_type": "markdown",
   "id": "d12e45d5",
   "metadata": {},
   "source": [
    "## DIY implementation"
   ]
  },
  {
   "cell_type": "code",
   "execution_count": 6,
   "id": "18770912",
   "metadata": {},
   "outputs": [
    {
     "data": {
      "image/png": "[encoded data removed]",
      "text/plain": [
       "<Figure size 432x288 with 1 Axes>"
      ]
     },
     "metadata": {
      "needs_background": "light"
     },
     "output_type": "display_data"
    }
   ],
   "source": [
    "import operator as op\n",
    "from functools import reduce\n",
    "\n",
    "def const(n, r):\n",
    "    r = min(r, n-r)\n",
    "    numer = reduce(op.mul, range(n, n-r, -1), 1)\n",
    "    denom = reduce(op.mul, range(1, r+1), 1)\n",
    "    return numer / denom\n",
    "\n",
    "def binomial(n, p):\n",
    "    q = 1 - p\n",
    "    y = [const(n, k) * (p ** k) * (q ** (n-k)) for k in range(n)]\n",
    "    return y, np.mean(y), np.std(y)\n",
    "\n",
    "for ls in [(0.5, 20), (0.7, 40), (0.5, 40)]:\n",
    "    p, n_experiment = ls[0], ls[1]\n",
    "    x = np.arange(n_experiment)\n",
    "    y, u, s = binomial(n_experiment, p)\n",
    "    plt.scatter(x, y, label=r'$\\mu=%.2f,\\ \\sigma=%.2f$' % (u, s))\n",
    "\n",
    "plt.legend()\n",
    "plt.savefig('graph/binomial.png')\n",
    "plt.show()"
   ]
  },
  {
   "cell_type": "code",
   "execution_count": null,
   "id": "b2afeaba",
   "metadata": {},
   "outputs": [],
   "source": []
  }
 ],
 "metadata": {
  "kernelspec": {
   "display_name": "Python 3 (ipykernel)",
   "language": "python",
   "name": "python3"
  },
  "language_info": {
   "codemirror_mode": {
    "name": "ipython",
    "version": 3
   },
   "file_extension": ".py",
   "mimetype": "text/x-python",
   "name": "python",
   "nbconvert_exporter": "python",
   "pygments_lexer": "ipython3",
   "version": "3.9.7"
  }
 },
 "nbformat": 4,
 "nbformat_minor": 5
}
