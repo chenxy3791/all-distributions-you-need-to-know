{
 "cells": [
  {
   "cell_type": "markdown",
   "id": "a9cba707",
   "metadata": {},
   "source": [
    "# Gamma function and Gamma distribution\n",
    "ref1: https://docs.scipy.org/doc/scipy/reference/generated/scipy.special.gamma.html\n",
    "\n",
    "ref2: https://mathworld.wolfram.com/GammaFunction.html\n",
    "\n",
    "ref3: https://docs.scipy.org/doc/scipy/tutorial/stats.html\n",
    "\n",
    "The (complete) gamma function Gamma(n) is defined to be an extension of the factorial to complex and real number arguments. It is related to the factorial by\n",
    "\n",
    " $$\\Gamma(n)=(n-1)!$$\n",
    "a slightly unfortunate notation due to Legendre which is now universally used instead of Gauss's simpler $\\Pi(n)=n!$ (Gauss 1812; Edwards 2001, p. 8).\n",
    "\n",
    "Gamma function is defined as:\n",
    "$$ \\Gamma(z) = \\int_{0}^{\\infty}t^{z-1}e^{-t}dt $$\n",
    "for $R(z)>0$ and is extended to the rest of the complex plane by analytic continuation. See [NIST Digital Library of Mathematical Functions https://dlmf.nist.gov/5.2#E1] for more details.\n",
    "\n"
   ]
  },
  {
   "cell_type": "code",
   "execution_count": 1,
   "id": "e63539b4",
   "metadata": {},
   "outputs": [],
   "source": [
    "%matplotlib inline\n",
    "import numpy as np\n",
    "from scipy.special import gamma, factorial # Don't be confused with scipy.stats.gamma\n",
    "from matplotlib import pyplot as plt"
   ]
  },
  {
   "cell_type": "code",
   "execution_count": 11,
   "id": "736a3efc",
   "metadata": {},
   "outputs": [
    {
     "name": "stdout",
     "output_type": "stream",
     "text": [
      "factorial(1) = 1.0, gamma(2) = 1.0\n",
      "factorial(2) = 2.0, gamma(3) = 2.0\n",
      "factorial(3) = 6.0, gamma(4) = 6.0\n",
      "factorial(4) = 24.0, gamma(5) = 24.0\n",
      "factorial(5) = 120.0, gamma(6) = 120.0\n",
      "factorial(6) = 720.0, gamma(7) = 720.0\n",
      "factorial(7) = 5040.0, gamma(8) = 5040.0\n",
      "factorial(8) = 40320.0, gamma(9) = 40320.0\n",
      "factorial(9) = 362880.0, gamma(10) = 362880.0\n"
     ]
    }
   ],
   "source": [
    "for k in range(1,10):\n",
    "    print('factorial({0}) = {1}, gamma({2}) = {3}'.format(k,factorial(k),k+1,gamma(k+1)))"
   ]
  },
  {
   "cell_type": "code",
   "execution_count": 27,
   "id": "9ecbb43d",
   "metadata": {},
   "outputs": [
    {
     "name": "stdout",
     "output_type": "stream",
     "text": [
      "factorial(0.0) = 1.0\n",
      "factorial(0.4) = 0.8872638175030753\n",
      "factorial(0.8) = 0.9313837709802426\n",
      "factorial(1.2000000000000002) = 1.101802490879713\n",
      "factorial(1.6) = 1.4296245588603045\n",
      "factorial(2.0) = 2.0\n",
      "factorial(2.4000000000000004) = 2.981206426810334\n",
      "factorial(2.8000000000000003) = 4.694174205740425\n",
      "factorial(3.2) = 7.75668953579318\n",
      "factorial(3.6) = 13.381285870932443\n",
      "factorial(4.0) = 24.0\n",
      "factorial(4.4) = 44.5988481450826\n",
      "factorial(4.800000000000001) = 85.62173751270541\n",
      "factorial(5.2) = 169.4060994617231\n",
      "factorial(5.6000000000000005) = 344.7019240352203\n",
      "factorial(6.0) = 720.0\n",
      "factorial(6.4) = 1541.336191894055\n",
      "factorial(6.800000000000001) = 3376.9213275011025\n",
      "factorial(7.2) = 7562.288279971303\n",
      "factorial(7.6000000000000005) = 17290.248509606685\n",
      "factorial(8.0) = 40320.0\n",
      "factorial(8.4) = 95809.45768813447\n",
      "factorial(8.8) = 231791.87991967567\n",
      "factorial(9.200000000000001) = 570499.0278410374\n",
      "factorial(9.600000000000001) = 1427482.916953128\n"
     ]
    }
   ],
   "source": [
    "X = np.arange(0,10,0.4)\n",
    "Y1 = factorial(X)\n",
    "Y2 = gamma(X+1)\n",
    "\n",
    "for x,y1,y2 in zip(X,Y1,Y2):\n",
    "    print('factorial({0}) = {1}'.format(x,y1))    \n",
    "    assert(y1==y2), f\"y1 should be equal to y2, got: {y1} and {y2}\"\n"
   ]
  },
  {
   "cell_type": "markdown",
   "id": "23f28e14",
   "metadata": {},
   "source": [
    "scipy.special.factorial(n, exact=False)[source]\n",
    "\n",
    "exact bool, optional. If True, calculate the answer exactly using long integer arithmetic. If False, result is approximated in floating point rapidly using the gamma function. Default is False.\n",
    "\n",
    "实际上，scipy中factorial()在参数exact=False时是用gamma()来进行近似计算的(当然要注意：factorial(n)=gamma(n+1))。当exact指定为True时，factorial是计算严格的非负整数的阶乘，此时它只能接收整型输入参数。如果给它非整型数会报错。\n",
    "\n"
   ]
  },
  {
   "cell_type": "code",
   "execution_count": 34,
   "id": "ae6d3c94",
   "metadata": {},
   "outputs": [
    {
     "name": "stdout",
     "output_type": "stream",
     "text": [
      "[1.         0.88726382 0.93138377 1.10180249 1.42962456]\n"
     ]
    },
    {
     "ename": "ValueError",
     "evalue": "factorial() only accepts integral values",
     "output_type": "error",
     "traceback": [
      "\u001b[1;31m---------------------------------------------------------------------------\u001b[0m",
      "\u001b[1;31mValueError\u001b[0m                                Traceback (most recent call last)",
      "Input \u001b[1;32mIn [34]\u001b[0m, in \u001b[0;36m<module>\u001b[1;34m\u001b[0m\n\u001b[0;32m      1\u001b[0m X \u001b[38;5;241m=\u001b[39m np\u001b[38;5;241m.\u001b[39marange(\u001b[38;5;241m0\u001b[39m,\u001b[38;5;241m2\u001b[39m,\u001b[38;5;241m0.4\u001b[39m)\n\u001b[0;32m      2\u001b[0m \u001b[38;5;28mprint\u001b[39m(factorial(X,exact\u001b[38;5;241m=\u001b[39m\u001b[38;5;28;01mFalse\u001b[39;00m))\n\u001b[1;32m----> 3\u001b[0m \u001b[38;5;28mprint\u001b[39m(\u001b[43mfactorial\u001b[49m\u001b[43m(\u001b[49m\u001b[43mX\u001b[49m\u001b[43m,\u001b[49m\u001b[43mexact\u001b[49m\u001b[38;5;241;43m=\u001b[39;49m\u001b[38;5;28;43;01mTrue\u001b[39;49;00m\u001b[43m)\u001b[49m)\n",
      "File \u001b[1;32m~\\Anaconda3\\lib\\site-packages\\scipy\\special\\_basic.py:2382\u001b[0m, in \u001b[0;36mfactorial\u001b[1;34m(n, exact)\u001b[0m\n\u001b[0;32m   2380\u001b[0m \u001b[38;5;66;03m# Calculate products of each range of numbers\u001b[39;00m\n\u001b[0;32m   2381\u001b[0m \u001b[38;5;28;01mif\u001b[39;00m un\u001b[38;5;241m.\u001b[39msize:\n\u001b[1;32m-> 2382\u001b[0m     val \u001b[38;5;241m=\u001b[39m \u001b[43mmath\u001b[49m\u001b[38;5;241;43m.\u001b[39;49m\u001b[43mfactorial\u001b[49m\u001b[43m(\u001b[49m\u001b[43mun\u001b[49m\u001b[43m[\u001b[49m\u001b[38;5;241;43m0\u001b[39;49m\u001b[43m]\u001b[49m\u001b[43m)\u001b[49m\n\u001b[0;32m   2383\u001b[0m     out[n \u001b[38;5;241m==\u001b[39m un[\u001b[38;5;241m0\u001b[39m]] \u001b[38;5;241m=\u001b[39m val\n\u001b[0;32m   2384\u001b[0m     \u001b[38;5;28;01mfor\u001b[39;00m i \u001b[38;5;129;01min\u001b[39;00m \u001b[38;5;28mrange\u001b[39m(\u001b[38;5;28mlen\u001b[39m(un) \u001b[38;5;241m-\u001b[39m \u001b[38;5;241m1\u001b[39m):\n",
      "\u001b[1;31mValueError\u001b[0m: factorial() only accepts integral values"
     ]
    }
   ],
   "source": [
    "X = np.arange(0,2,0.4)\n",
    "print(factorial(X,exact=False))\n",
    "print(factorial(X,exact=True))"
   ]
  },
  {
   "cell_type": "code",
   "execution_count": 35,
   "id": "1af92c9c",
   "metadata": {},
   "outputs": [],
   "source": [
    "def gamma(x, a, b):\n",
    "    c = (b ** a) / gamma_function(a)\n",
    "    y = c * (x ** (a - 1)) * np.exp(-b * x)\n",
    "    return x, y, np.mean(y), np.std(y)"
   ]
  },
  {
   "cell_type": "code",
   "execution_count": 36,
   "id": "d811e5c2",
   "metadata": {},
   "outputs": [
    {
     "data": {
      "image/png": "[encoded data removed]",
      "text/plain": [
       "<Figure size 432x288 with 1 Axes>"
      ]
     },
     "metadata": {
      "needs_background": "light"
     },
     "output_type": "display_data"
    }
   ],
   "source": [
    "for ls in [(1, 1), (2, 1), (3, 1), (2, 2)]:\n",
    "    a, b = ls[0], ls[1]\n",
    "\n",
    "    x = np.arange(0, 20, 0.01, dtype=float)\n",
    "    x, y, u, s = gamma(x, a=a, b=b)\n",
    "    plt.plot(x, y, label=r'$\\mu=%.2f,\\ \\sigma=%.2f,'\n",
    "                         r'\\ \\alpha=%d,\\ \\beta=%d$' % (u, s, a, b))\n",
    "plt.legend()\n",
    "plt.savefig('graph/gamma.png')\n",
    "plt.show()"
   ]
  },
  {
   "cell_type": "code",
   "execution_count": null,
   "id": "0cf596ae",
   "metadata": {},
   "outputs": [],
   "source": []
  }
 ],
 "metadata": {
  "kernelspec": {
   "display_name": "Python 3 (ipykernel)",
   "language": "python",
   "name": "python3"
  },
  "language_info": {
   "codemirror_mode": {
    "name": "ipython",
    "version": 3
   },
   "file_extension": ".py",
   "mimetype": "text/x-python",
   "name": "python",
   "nbconvert_exporter": "python",
   "pygments_lexer": "ipython3",
   "version": "3.8.5"
  }
 },
 "nbformat": 4,
 "nbformat_minor": 5
}
