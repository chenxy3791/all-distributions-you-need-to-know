{
 "cells": [
  {
   "cell_type": "markdown",
   "id": "a66ce20a",
   "metadata": {},
   "source": [
    "# Bernoulli Distribution"
   ]
  },
  {
   "cell_type": "code",
   "execution_count": 9,
   "id": "a78a5754",
   "metadata": {},
   "outputs": [],
   "source": [
    "import random\n",
    "import numpy as np\n",
    "from scipy.stats import bernoulli\n",
    "%matplotlib inline\n",
    "from matplotlib import pyplot as plt"
   ]
  },
  {
   "cell_type": "markdown",
   "id": "26325d64",
   "metadata": {},
   "source": [
    "\n",
    "## Distribution Function\n",
    "\n",
    "设试验E只有两种可能的结果，这种试验称为伯努利试验。伯努利试验的结果为一个随机变量，它遵循伯努利分布。\n",
    "\n",
    "伯努利分布也称为(0-1)分布,遵循伯努利分布的随机变量只有两种取值，分别用0和1表示（分别对应试验的两种结果）。典型的例子是扔硬币实验结果。将扔硬币的实验结果（正面向上或向下）看作是一个随机变量X，则X遵循伯努利分布，这是一种离散分布。记为$X \\sim Bern(p)$或者$X \\sim B(p)$。\n",
    "\n",
    "假定用X=1表示正面向上，且出现正面朝上的概率为p，则伯努利分布的概率质量函数(PMF: Probability Mass Function，也有称为分布律的--如浙大版<<概率论与数理统计>>)为：\n",
    "\n",
    "$$P(X=1|p)=p\\\\P(X=0|p)=1-p$$\n",
    "\n",
    "当然，为了和条件概率区分开来，也有将$P(X=1|p)=p$写成$P(X=1;p)=p$的写法。一般情况下根据上下文也可以做出区分。\n",
    "\n",
    "也可以记（未必简单，但是对于要做数学推导处理等就比较方便）为：\n",
    "$$f(x) = P(X=x|p) = p^x\\cdot(1-p)^{(1-x)}I_{{x\\in(0,1)}}(x)$$\n",
    "\n",
    "其中I(x)是所谓的Indicator函数。因此，以上式表示仅在x=0或x=1时成立，其它情况下则为0.\n",
    "\n",
    "伯努利分布的概率分布函数（CDF: Cumulative Distribution Function）如下所示：...\n"
   ]
  },
  {
   "cell_type": "markdown",
   "id": "8adc29cd",
   "metadata": {},
   "source": [
    "## 常用统计特征\n",
    "伯努利分布的几个常用的统计特征分别如下所示（注意，离散随机变量的统计特征计算不使用积分，而是用求和）：\n",
    "$$E(X) = \\sum_{x \\in (0,1)}{xp^x\\cdot(1-p)^{(1-x)}}=p$$\n",
    "$$D(X) = \\sum_{x \\in (0,1)}{(x-E(X))^2p^x\\cdot(1-p)^{(1-x)}}=p(1-p)$$\n",
    "$$Skew(X) = \\sum_{x \\in (0,1)}{(\\frac{x-E(X)}{\\sigma})^3p^x\\cdot(1-p)^{(1-x)}}=\\frac{1-2p}{\\sqrt{p(1-p)}}$$\n",
    "$$Kurtosis(X) = \\sum_{x \\in (0,1)}{(\\frac{x-E(X)}{\\sigma})^4p^x\\cdot(1-p)^{(1-x)}}-3=\\frac{3p^2-3p+1}{p(1-p)}-3$$\n"
   ]
  },
  {
   "cell_type": "markdown",
   "id": "58eba701",
   "metadata": {},
   "source": [
    "## 代码示例"
   ]
  },
  {
   "cell_type": "code",
   "execution_count": 10,
   "id": "1582fe16",
   "metadata": {},
   "outputs": [
    {
     "data": {
      "image/png": "[encoded data removed]",
      "text/plain": [
       "<Figure size 432x288 with 1 Axes>"
      ]
     },
     "metadata": {
      "needs_background": "light"
     },
     "output_type": "display_data"
    }
   ],
   "source": [
    "fig, ax = plt.subplots(1, 1)\n",
    "p  = 0.4\n",
    "x = np.arange(-1,3)\n",
    "ax.plot(x, bernoulli.pmf(x, p), 'bo', ms=8, label='bernoulli pmf')\n",
    "ax.vlines(x, 0, bernoulli.pmf(x, p), colors='b', lw=5, alpha=0.5)\n",
    "\n",
    "#rv = bernoulli(p)\n",
    "#ax.vlines(x, 0, rv.pmf(x), colors='k', linestyles='-', lw=1, label='frozen pmf')\n",
    "ax.legend(loc='best', frameon=False)\n",
    "ax.grid()\n",
    "plt.show()"
   ]
  },
  {
   "cell_type": "markdown",
   "id": "72dac3b4",
   "metadata": {},
   "source": [
    "Check the inter-inverse relation between cdf and ppf:\n",
    "\n",
    "注意存在在不满足可逆条件的区间。cdf(2) = 1, 而ppf(1) = 1。这是可以理解的。因为对于在x>=1的区间，cdf的定义域到值域不是一一映射，因此不可逆。所以ppf(cdf(x))不一定等于x。"
   ]
  },
  {
   "cell_type": "code",
   "execution_count": 11,
   "id": "1ff68cbe",
   "metadata": {},
   "outputs": [
    {
     "name": "stdout",
     "output_type": "stream",
     "text": [
      "cdf_prob[[-1  0  1  2]] = [0.  0.6 1.  1. ]\n",
      "ppf[[0.  0.6 1.  1. ]] = [-1.  0.  1.  1.]\n"
     ]
    }
   ],
   "source": [
    "cdf_prob = bernoulli.cdf(x, p)\n",
    "print('cdf_prob[{0}] = {1}'.format(x,cdf_prob))\n",
    "print('ppf[{0}] = {1}'.format(cdf_prob,bernoulli.ppf(cdf_prob, p)))"
   ]
  },
  {
   "cell_type": "markdown",
   "id": "55a3282a",
   "metadata": {},
   "source": [
    "4种常用的统计特征:"
   ]
  },
  {
   "cell_type": "code",
   "execution_count": 12,
   "id": "8c98b29c",
   "metadata": {},
   "outputs": [
    {
     "name": "stdout",
     "output_type": "stream",
     "text": [
      "Bernoulli distribution with p =0.5\n",
      "mean = 0.5, var = 0.25, skew = 0.0, kurt = -2.0\n",
      "Bernoulli distribution with p =0.4\n",
      "mean = 0.4, var = 0.24, skew = 0.40824829046386296, kurt = -1.8333333333333337\n"
     ]
    }
   ],
   "source": [
    "p=0.5\n",
    "mean, var, skew, kurt = bernoulli.stats(p, moments='mvsk')\n",
    "print('Bernoulli distribution with p ={}'.format(p))\n",
    "print('mean = {0}, var = {1}, skew = {2}, kurt = {3}'.format(mean, var, skew, kurt))\n",
    "\n",
    "p=0.4\n",
    "mean, var, skew, kurt = bernoulli.stats(p, moments='mvsk')\n",
    "print('Bernoulli distribution with p ={}'.format(p))\n",
    "print('mean = {0}, var = {1}, skew = {2}, kurt = {3}'.format(mean, var, skew, kurt))"
   ]
  },
  {
   "cell_type": "markdown",
   "id": "9fa3eb30",
   "metadata": {},
   "source": [
    "当p=0.5时，说明0和1是等概率的，因此是一个对称的分布，因此3阶中心矩(对应Skewness)变为0。p!=0.5时，分布变为非对称的了，skewness变为非0就显示了分布非对称性。"
   ]
  },
  {
   "cell_type": "markdown",
   "id": "76d68ae8",
   "metadata": {},
   "source": [
    "histogram() parameter: densitybool, optional\n",
    "If False, the result will contain the number of samples in each bin. If True, the result is the value of the probability density function at the bin, normalized such that the integral over the range is 1. Note that the sum of the histogram values will not be equal to 1 unless bins of unity width are chosen; it is not a probability mass function."
   ]
  },
  {
   "cell_type": "code",
   "execution_count": 14,
   "id": "e21f93a2",
   "metadata": {},
   "outputs": [
    {
     "data": {
      "image/png": "[encoded data removed]",
      "text/plain": [
       "<Figure size 432x288 with 1 Axes>"
      ]
     },
     "metadata": {
      "needs_background": "light"
     },
     "output_type": "display_data"
    },
    {
     "name": "stdout",
     "output_type": "stream",
     "text": [
      "sample means    of r = 0.6053\n",
      "sample variance of r = 0.2389119100000001\n",
      "sample std-dev  of r = 0.4887861597876929\n"
     ]
    }
   ],
   "source": [
    "n_experiment = 10000\n",
    "p = 0.6\n",
    "r = bernoulli.rvs(p, size=n_experiment)\n",
    "u, s = np.mean(r), np.std(r)\n",
    "_ = plt.hist(r, bins='auto', density=True, label=r'$\\mu=%.2f,\\ \\sigma=%.2f$' % (u, s))  # arguments are passed to np.histogram\n",
    "plt.title(\"Histogram with 'auto' bins\")\n",
    "plt.legend()\n",
    "plt.savefig('graph/bernoulli.png')\n",
    "\n",
    "plt.grid()\n",
    "plt.show()\n",
    "\n",
    "print('sample means    of r = {0}'.format(np.mean(r)))\n",
    "print('sample variance of r = {0}'.format(np.var(r)))\n",
    "print('sample std-dev  of r = {0}'.format(np.std(r)))\n"
   ]
  },
  {
   "cell_type": "code",
   "execution_count": null,
   "id": "f8e6602b",
   "metadata": {},
   "outputs": [],
   "source": []
  }
 ],
 "metadata": {
  "kernelspec": {
   "display_name": "Python 3 (ipykernel)",
   "language": "python",
   "name": "python3"
  },
  "language_info": {
   "codemirror_mode": {
    "name": "ipython",
    "version": 3
   },
   "file_extension": ".py",
   "mimetype": "text/x-python",
   "name": "python",
   "nbconvert_exporter": "python",
   "pygments_lexer": "ipython3",
   "version": "3.9.7"
  }
 },
 "nbformat": 4,
 "nbformat_minor": 5
}
